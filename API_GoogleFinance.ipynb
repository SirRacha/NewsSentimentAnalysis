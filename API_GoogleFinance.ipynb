{
 "cells": [
  {
   "cell_type": "code",
   "execution_count": 1,
   "metadata": {},
   "outputs": [
    {
     "name": "stderr",
     "output_type": "stream",
     "text": [
      "/anaconda3/lib/python3.6/site-packages/pandas_datareader/google/daily.py:40: UnstableAPIWarning: \n",
      "The Google Finance API has not been stable since late 2017. Requests seem\n",
      "to fail at random. Failure is especially common when bulk downloading.\n",
      "\n",
      "  warnings.warn(UNSTABLE_WARNING, UnstableAPIWarning)\n"
     ]
    },
    {
     "data": {
      "text/html": [
       "<div>\n",
       "<style>\n",
       "    .dataframe thead tr:only-child th {\n",
       "        text-align: right;\n",
       "    }\n",
       "\n",
       "    .dataframe thead th {\n",
       "        text-align: left;\n",
       "    }\n",
       "\n",
       "    .dataframe tbody tr th {\n",
       "        vertical-align: top;\n",
       "    }\n",
       "</style>\n",
       "<table border=\"1\" class=\"dataframe\">\n",
       "  <thead>\n",
       "    <tr style=\"text-align: right;\">\n",
       "      <th></th>\n",
       "      <th>APPL</th>\n",
       "      <th>MSFT</th>\n",
       "      <th>SPY</th>\n",
       "    </tr>\n",
       "  </thead>\n",
       "  <tbody>\n",
       "    <tr>\n",
       "      <th>2010-01-01</th>\n",
       "      <td>NaN</td>\n",
       "      <td>NaN</td>\n",
       "      <td>NaN</td>\n",
       "    </tr>\n",
       "    <tr>\n",
       "      <th>2010-01-04</th>\n",
       "      <td>92.0</td>\n",
       "      <td>30.95</td>\n",
       "      <td>113.33</td>\n",
       "    </tr>\n",
       "    <tr>\n",
       "      <th>2010-01-05</th>\n",
       "      <td>92.0</td>\n",
       "      <td>30.96</td>\n",
       "      <td>113.63</td>\n",
       "    </tr>\n",
       "    <tr>\n",
       "      <th>2010-01-06</th>\n",
       "      <td>92.0</td>\n",
       "      <td>30.77</td>\n",
       "      <td>113.71</td>\n",
       "    </tr>\n",
       "    <tr>\n",
       "      <th>2010-01-07</th>\n",
       "      <td>92.0</td>\n",
       "      <td>30.45</td>\n",
       "      <td>114.19</td>\n",
       "    </tr>\n",
       "    <tr>\n",
       "      <th>2010-01-08</th>\n",
       "      <td>92.0</td>\n",
       "      <td>30.66</td>\n",
       "      <td>114.57</td>\n",
       "    </tr>\n",
       "    <tr>\n",
       "      <th>2010-01-11</th>\n",
       "      <td>92.0</td>\n",
       "      <td>30.27</td>\n",
       "      <td>114.73</td>\n",
       "    </tr>\n",
       "    <tr>\n",
       "      <th>2010-01-12</th>\n",
       "      <td>92.0</td>\n",
       "      <td>30.07</td>\n",
       "      <td>113.66</td>\n",
       "    </tr>\n",
       "    <tr>\n",
       "      <th>2010-01-13</th>\n",
       "      <td>92.0</td>\n",
       "      <td>30.35</td>\n",
       "      <td>114.62</td>\n",
       "    </tr>\n",
       "    <tr>\n",
       "      <th>2010-01-14</th>\n",
       "      <td>92.0</td>\n",
       "      <td>30.96</td>\n",
       "      <td>114.93</td>\n",
       "    </tr>\n",
       "  </tbody>\n",
       "</table>\n",
       "</div>"
      ],
      "text/plain": [
       "            APPL   MSFT     SPY\n",
       "2010-01-01   NaN    NaN     NaN\n",
       "2010-01-04  92.0  30.95  113.33\n",
       "2010-01-05  92.0  30.96  113.63\n",
       "2010-01-06  92.0  30.77  113.71\n",
       "2010-01-07  92.0  30.45  114.19\n",
       "2010-01-08  92.0  30.66  114.57\n",
       "2010-01-11  92.0  30.27  114.73\n",
       "2010-01-12  92.0  30.07  113.66\n",
       "2010-01-13  92.0  30.35  114.62\n",
       "2010-01-14  92.0  30.96  114.93"
      ]
     },
     "execution_count": 1,
     "metadata": {},
     "output_type": "execute_result"
    }
   ],
   "source": [
    "##Finance Scraping: Google Finance API\n",
    "###http://pandas-datareader.readthedocs.io/en/latest/remote_data.html#yahoo-finance\n",
    "\n",
    "#setup tools\n",
    "from pandas_datareader import data\n",
    "import matplotlib.pyplot as plt\n",
    "import pandas as pd\n",
    "\n",
    "#Define the instruments to download\n",
    "tickers = ['APPL', 'MSFT', 'SPY']\n",
    "\n",
    "#Define online data source\n",
    "data_source = 'google'\n",
    "\n",
    "#Define data range\n",
    "start_date = '2010-01-01'\n",
    "end_date = '2016-12-31'\n",
    "\n",
    "#Use pandas_reaser.data.DataReader to load data\n",
    "panel_data = data.DataReader(tickers, data_source, start_date, end_date)\n",
    "\n",
    "#Get just the adjusted closing prices. Returns pandas DataFrame\n",
    "#The index in this DataFrame is the  major index of the panel_data\n",
    "close = panel_data.loc['Close']\n",
    "           \n",
    "#get all weekdays from start to end date\n",
    "all_weekdays = pd.date_range(start=start_date, end=end_date, freq='B')\n",
    "\n",
    "#reindex close using all_weekdays as the new index to align the \n",
    "#existing prices in adj_close with our new dates\n",
    "close = close.reindex(all_weekdays)\n",
    "           \n",
    "close.head(10)\n",
    "#panel_data\n",
    "\n"
   ]
  },
  {
   "cell_type": "code",
   "execution_count": 2,
   "metadata": {},
   "outputs": [
    {
     "data": {
      "text/plain": [
       "DatetimeIndex(['2010-01-01', '2010-01-04', '2010-01-05', '2010-01-06',\n",
       "               '2010-01-07', '2010-01-08', '2010-01-11', '2010-01-12',\n",
       "               '2010-01-13', '2010-01-14',\n",
       "               ...\n",
       "               '2016-12-19', '2016-12-20', '2016-12-21', '2016-12-22',\n",
       "               '2016-12-23', '2016-12-26', '2016-12-27', '2016-12-28',\n",
       "               '2016-12-29', '2016-12-30'],\n",
       "              dtype='datetime64[ns]', length=1826, freq='B')"
      ]
     },
     "execution_count": 2,
     "metadata": {},
     "output_type": "execute_result"
    }
   ],
   "source": [
    "all_weekdays"
   ]
  },
  {
   "cell_type": "code",
   "execution_count": 3,
   "metadata": {},
   "outputs": [
    {
     "data": {
      "text/html": [
       "<div>\n",
       "<style>\n",
       "    .dataframe thead tr:only-child th {\n",
       "        text-align: right;\n",
       "    }\n",
       "\n",
       "    .dataframe thead th {\n",
       "        text-align: left;\n",
       "    }\n",
       "\n",
       "    .dataframe tbody tr th {\n",
       "        vertical-align: top;\n",
       "    }\n",
       "</style>\n",
       "<table border=\"1\" class=\"dataframe\">\n",
       "  <thead>\n",
       "    <tr style=\"text-align: right;\">\n",
       "      <th></th>\n",
       "      <th>APPL</th>\n",
       "      <th>MSFT</th>\n",
       "      <th>SPY</th>\n",
       "    </tr>\n",
       "  </thead>\n",
       "  <tbody>\n",
       "    <tr>\n",
       "      <th>count</th>\n",
       "      <td>20.000000</td>\n",
       "      <td>1761.000000</td>\n",
       "      <td>1761.000000</td>\n",
       "    </tr>\n",
       "    <tr>\n",
       "      <th>mean</th>\n",
       "      <td>118.866000</td>\n",
       "      <td>37.134015</td>\n",
       "      <td>164.704651</td>\n",
       "    </tr>\n",
       "    <tr>\n",
       "      <th>std</th>\n",
       "      <td>83.335363</td>\n",
       "      <td>10.812267</td>\n",
       "      <td>37.067717</td>\n",
       "    </tr>\n",
       "    <tr>\n",
       "      <th>min</th>\n",
       "      <td>92.000000</td>\n",
       "      <td>23.010000</td>\n",
       "      <td>102.200000</td>\n",
       "    </tr>\n",
       "    <tr>\n",
       "      <th>25%</th>\n",
       "      <td>92.000000</td>\n",
       "      <td>27.840000</td>\n",
       "      <td>131.210000</td>\n",
       "    </tr>\n",
       "    <tr>\n",
       "      <th>50%</th>\n",
       "      <td>92.000000</td>\n",
       "      <td>33.030000</td>\n",
       "      <td>165.310000</td>\n",
       "    </tr>\n",
       "    <tr>\n",
       "      <th>75%</th>\n",
       "      <td>92.000000</td>\n",
       "      <td>46.110000</td>\n",
       "      <td>201.990000</td>\n",
       "    </tr>\n",
       "    <tr>\n",
       "      <th>max</th>\n",
       "      <td>392.520000</td>\n",
       "      <td>63.620000</td>\n",
       "      <td>227.760000</td>\n",
       "    </tr>\n",
       "  </tbody>\n",
       "</table>\n",
       "</div>"
      ],
      "text/plain": [
       "             APPL         MSFT          SPY\n",
       "count   20.000000  1761.000000  1761.000000\n",
       "mean   118.866000    37.134015   164.704651\n",
       "std     83.335363    10.812267    37.067717\n",
       "min     92.000000    23.010000   102.200000\n",
       "25%     92.000000    27.840000   131.210000\n",
       "50%     92.000000    33.030000   165.310000\n",
       "75%     92.000000    46.110000   201.990000\n",
       "max    392.520000    63.620000   227.760000"
      ]
     },
     "execution_count": 3,
     "metadata": {},
     "output_type": "execute_result"
    }
   ],
   "source": [
    "close.describe()"
   ]
  },
  {
   "cell_type": "code",
   "execution_count": 4,
   "metadata": {
    "collapsed": true
   },
   "outputs": [],
   "source": [
    "#Get the MSFT timeseries. This now returns a \n",
    "#Pandas Series Object indexed by date.\n",
    "msft = close.loc[:, 'MSFT']\n",
    "#Calculate the 20 and 100 days moving averages of the closing prices\n",
    "short_rolling_msft = msft.rolling(window=20).mean()\n",
    "long_rolling_msft = msft.rolling(window=100).mean()"
   ]
  },
  {
   "cell_type": "code",
   "execution_count": 5,
   "metadata": {},
   "outputs": [
    {
     "data": {
      "text/plain": [
       "<matplotlib.legend.Legend at 0x10d890d68>"
      ]
     },
     "execution_count": 5,
     "metadata": {},
     "output_type": "execute_result"
    }
   ],
   "source": [
    "#Plot everything in matplotlib!!\n",
    "fig = plt.figure()\n",
    "ax = fig.add_subplot(1,1,1)\n",
    "ax.plot(msft.index, msft, label='MSFT')\n",
    "ax.plot(short_rolling_msft.index, short_rolling_msft, label='20 days rolling')\n",
    "ax.plot(long_rolling_msft.index, long_rolling_msft, label='100 days rolling')\n",
    "ax.set_xlabel('Date')\n",
    "ax.set_ylabel('Adjusted closing price ($)')\n",
    "ax.legend()"
   ]
  },
  {
   "cell_type": "code",
   "execution_count": 6,
   "metadata": {},
   "outputs": [
    {
     "data": {
      "image/png": "[encoded data removed]",
      "text/plain": [
       "<matplotlib.figure.Figure at 0x10cfc02b0>"
      ]
     },
     "metadata": {},
     "output_type": "display_data"
    }
   ],
   "source": [
    "plt.show()"
   ]
  },
  {
   "cell_type": "code",
   "execution_count": 8,
   "metadata": {},
   "outputs": [],
   "source": [
    "#Get the adjusted closing prices. The index in this DF is the major index of the panel_data.\n",
    "adj_close = panel_data.loc['Adj Close']\n",
    "\n",
    "#Getting all weekdays between start and end\n",
    "all_weekdays = pd.date_range(start=start, end=end, freq='B')\n",
    "\n",
    "#use reindex to align the prices with new st of dates\n",
    "adj_close = adj_close.reindex(all_weekdays)\n",
    "\n",
    "#Reindexing inserts missing value (NaN) for dates that weren't present\n",
    "#now replace them with last available price\n",
    "adj_close = adj_close.fillna(method='ffill')\n",
    "\n",
    "all_weekdays"
   ]
  },
  {
   "cell_type": "code",
   "execution_count": null,
   "metadata": {},
   "outputs": [],
   "source": [
    "#for morningstar API\n",
    "from pandas_datareader import data\n",
    "#import pandas_datareader.data as web\n",
    "from datetime import datetime\n",
    "\n",
    "tickers = ['AAPL', 'MSFT', 'SPY']\n",
    "\n",
    "data_source = 'morningstar'\n",
    "start = datetime(2000, 1, 1)\n",
    "end = datetime(2017, 5, 24)\n",
    "#f = data.DataReader(tickers, data_source, start, end)\n",
    "\n",
    "\n",
    "#Use pandas_reader.data.DataReader to load data\n",
    "panel_data = data.DataReader(tickers, data_source, start, end)\n",
    "\n",
    "#Get just the adjusted closing prices. Returns pandas DataFrame\n",
    "#The index in this DataFrame is the  major index of the panel_data\n",
    "close = panel_data.loc[:,['Close']]\n",
    "           \n",
    "#get all weekdays from start to end date\n",
    "all_weekdays = pd.date_range(start=start, end=end, freq='B')\n",
    "\n",
    "#reindex close using all_weekdays as the new index to align the \n",
    "#existing prices in adj_close with our new dates\n",
    "close = close.reindex(all_weekdays)\n",
    "           \n",
    "close.head(10)\n",
    "#panel_data\n"
   ]
  },
  {
   "cell_type": "code",
   "execution_count": null,
   "metadata": {
    "collapsed": true
   },
   "outputs": [],
   "source": []
  },
  {
   "cell_type": "code",
   "execution_count": null,
   "metadata": {
    "collapsed": true
   },
   "outputs": [],
   "source": []
  }
 ],
 "metadata": {
  "kernelspec": {
   "display_name": "Python 3",
   "language": "python",
   "name": "python3"
  },
  "language_info": {
   "codemirror_mode": {
    "name": "ipython",
    "version": 3
   },
   "file_extension": ".py",
   "mimetype": "text/x-python",
   "name": "python",
   "nbconvert_exporter": "python",
   "pygments_lexer": "ipython3",
   "version": "3.6.2"
  }
 },
 "nbformat": 4,
 "nbformat_minor": 2
}
